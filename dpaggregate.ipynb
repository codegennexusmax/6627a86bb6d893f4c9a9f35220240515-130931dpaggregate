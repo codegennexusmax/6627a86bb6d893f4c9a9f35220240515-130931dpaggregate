{
 "cells": [
  {
   "cell_type": "markdown",
   "id": "8c8e8e2f",
   "metadata": {},
   "source": [
    "***GENERATED CODE FOR dpaggregate PIPELINE.***"
   ]
  },
  {
   "cell_type": "markdown",
   "id": "a7840d4c",
   "metadata": {},
   "source": [
    "***DON'T EDIT THIS CODE.***"
   ]
  },
  {
   "cell_type": "markdown",
   "id": "027897b4",
   "metadata": {},
   "source": [
    "***CONNECTOR FUNCTIONS TO READ DATA.***"
   ]
  },
  {
   "cell_type": "code",
   "execution_count": null,
   "id": "f3c38233",
   "metadata": {},
   "outputs": [],
   "source": [
    "import os\n",
    "import datetime\n",
    "import logging\n",
    "import warnings\n",
    "warnings.filterwarnings('ignore')\n",
    "logging.basicConfig(format='%(levelname)s:%(message)s', level=logging.INFO)\n",
    "\n",
    "\n",
    "class HDFSConnector:\n",
    "\n",
    "    def fetch(spark, config):\n",
    "        ################### INPUT HADOOP HOST PORT TO CONNECT WITH ###############################\n",
    "        hdfs_server = str(os.environ['HDFS_SERVER'])\n",
    "        hdfs_port = int(os.environ['HDFS_PORT'])\n",
    "        df = spark.read.options(header='true', inferschema='true').csv(\n",
    "            f\"hdfs://{hdfs_server}:{hdfs_port}{eval(config)['url']}\", header='true')\n",
    "        display(df.limit(2).toPandas())\n",
    "        return df\n",
    "\n",
    "    def put(df, spark, config):\n",
    "        return df.write.format('csv').options(header='true' if eval(config)[\"is_header\"] == \"Use Header Line\" else 'false',\n",
    "                                              delimiter=eval(config)[\"delimiter\"]).save((\"%s %s\") % (datetime.datetime.now().strftime(\"%Y-%m-%d %H.%M.%S\")+\"_\", eval(config)['url']))\n"
   ]
  },
  {
   "cell_type": "markdown",
   "id": "aad158dc",
   "metadata": {},
   "source": [
    "***OPERATION FUNCTIONS***"
   ]
  },
  {
   "cell_type": "code",
   "execution_count": null,
   "id": "ffa1277c",
   "metadata": {},
   "outputs": [],
   "source": [
    "class AggregationOperation:\n",
    "\n",
    "    def run(inStages, inStagesData, stageId, sparkSession, stageAttribs):\n",
    "\n",
    "        aggregations = \"\"\n",
    "\n",
    "        for aggregate in stageAttribs[\"aggregate_on\"]:\n",
    "            if aggregate['method_type'] == \"count\":\n",
    "                if aggregate['method'] == \"all\":\n",
    "                    aggregations += \"%s(%s) as %s, \" % (\n",
    "                        aggregate['method'], aggregate['input_field'], aggregate['aggregate_field'])\n",
    "                elif aggregate['method'] == \"empty\":\n",
    "                    aggregations += \"%s(case %s when null then 1 else null end) as %s, \" % (\n",
    "                        aggregate['method'], aggregate['input_field'], aggregate['aggregate_field'])\n",
    "                elif aggregate['method'] == \"non empty\":\n",
    "                    aggregations += \"%s(case %s when null then null else 1 end) as %s, \" % (\n",
    "                        aggregate['method'], aggregate['input_field'], aggregate['aggregate_field'])\n",
    "                elif aggregate['method'] == \"custom\":\n",
    "                    aggregations += \"%s(case %s when %s then 1 else null end) as %s, \" % (\n",
    "                        aggregate['method'], aggregate['input_field'], aggregate['count_custom_value'], aggregate['aggregate_field'])\n",
    "                elif aggregate['method'] == \"unique\":\n",
    "                    aggregations += \"%s(DISTINCT(%s)) as %s, \" % (\n",
    "                        aggregate['method'], aggregate['input_field'], aggregate['aggregate_field'])\n",
    "\n",
    "            else:\n",
    "                aggregations += \"%s(%s) as %s, \" % (\n",
    "                    aggregate['method'], aggregate['input_field'], aggregate['aggregate_field'])\n",
    "\n",
    "        group_by = \",\".join(stageAttribs[\"group_by\"])\n",
    "\n",
    "        inStagesData[inStages[0]].createOrReplaceTempView(\"view%s\" % (stageId))\n",
    "        query = \"SELECT %s %s FROM %s GROUP BY %s\" % (\n",
    "            aggregations, group_by, \"view%s\" % (stageId), group_by)\n",
    "        return sparkSession.sql(query)\n"
   ]
  },
  {
   "cell_type": "markdown",
   "id": "eacd3697",
   "metadata": {},
   "source": [
    "***CONNECTOR FUNCTIONS TO WRITE DATA.***"
   ]
  },
  {
   "cell_type": "code",
   "execution_count": null,
   "id": "f86950cb",
   "metadata": {},
   "outputs": [],
   "source": [
    "import datetime\n",
    "import requests\n",
    "import datetime\n",
    "import logging\n",
    "import warnings\n",
    "warnings.filterwarnings('ignore')\n",
    "logging.basicConfig(format='%(levelname)s:%(message)s', level=logging.INFO)\n",
    "\n",
    "\n",
    "class NumtraConnector:\n",
    "\n",
    "    def put(inStages, inStagesData, stageId, spark, config):\n",
    "        path = eval(config)['server_url']\n",
    "        baseType = eval(config)['baseType']\n",
    "        results_url = eval(config)['results_url']\n",
    "        server = eval(config)['server']\n",
    "        originalfile = eval(config)['orignalKey']\n",
    "        eval(config)['pathOnly']\n",
    "        filename = eval(config)['filename']\n",
    "        eval(config)['ser']\n",
    "        eval(config)['user']\n",
    "        eval(config)['password']\n",
    "        eval(config)['authSource']\n",
    "        eval(config)['user_id']\n",
    "        eval(config)['parent_id']\n",
    "        eval(config)['project_id']\n",
    "        time = str(int(datetime.datetime.now().timestamp()))\n",
    "\n",
    "        inStagesData[inStages[0]]\n",
    "\n",
    "        print(path)\n",
    "        print(baseType)\n",
    "        print(results_url)\n",
    "        print(server)\n",
    "        print(originalfile)\n",
    "        print(filename)\n",
    "\n",
    "        args = {\n",
    "            'url': path,\n",
    "            'baseType': baseType,\n",
    "            'originalfile': originalfile,\n",
    "            'filename': time + filename\n",
    "        }\n",
    "\n",
    "        response = requests.post(results_url, args)\n",
    "        return response\n"
   ]
  },
  {
   "cell_type": "markdown",
   "id": "07edbea0",
   "metadata": {},
   "source": [
    "***READING DATAFRAME***"
   ]
  },
  {
   "cell_type": "code",
   "execution_count": null,
   "id": "a2fa4252",
   "metadata": {},
   "outputs": [],
   "source": [
    "############## CREATE SPARK SESSION ############################ ENTER YOUR SPARK MASTER IP AND PORT TO CONNECT TO SERVER ################\n",
    "from pyspark.sql import SparkSession\n",
    "spark = SparkSession.builder.master('local[1]').getOrCreate()\n",
    "#%run dpaggregateHooks.ipynb\n",
    "try:\n",
    "\t#sourcePreExecutionHook()\n",
    "\n",
    "\theartfailuretrain = HDFSConnector.fetch(spark, \"{'url': '/FileStore/platform/testdata/1714042041565_HeartFailureTrain.csv', 'filename': 'HeartFailureTrain.csv', 'delimiter': ',', 'file_type': 'Delimeted', 'dbfs_token': '', 'dbfs_domain': '', 'FilePath': '/OperatorsTest/HeartFailureTrain.csv', 'viewFileName': 'HeartFailureTrain.csv', 'is_header': 'Use Header Line', 'baseType': 'hdfs', 'server_url': '/nexusMax/NexusMaxPlatform/uploads/platform/', 'results_url': 'http://dnm.bfirst.ai:44040/api/read/hdfs'}\")\n",
    "\n",
    "except Exception as ex: \n",
    "\tlogging.error(ex)\n",
    "#spark.stop()\n"
   ]
  },
  {
   "cell_type": "markdown",
   "id": "acd901f6",
   "metadata": {},
   "source": [
    "***PERFORMING OPERATIONS***"
   ]
  },
  {
   "cell_type": "code",
   "execution_count": null,
   "id": "5b3042b9",
   "metadata": {},
   "outputs": [],
   "source": [
    "#%run dpaggregateHooks.ipynb\n",
    "try:\n",
    "\taggregation = AggregationOperation.run([\"663b8b9170d70b7c1b1e4b96\"],{\"663b8b9170d70b7c1b1e4b96\": heartfailuretrain}, \"663b8b9870d70b7c1b1e4b9a\", spark, \"{'dataType': 'real', 'dataTypes': ['real', 'numeric'], 'SelectedColumns': ['age'], 'functionData': {'functionName': 'aggregate', 'applyOn': [{'columnName': 'age', 'type': 'real', 'disable': False}], 'functionsData': [{'aggregateFunction': 'max', 'groupOn': [{'columnName': 'age', 'type': 'real', 'disable': False}], 'aggregateOn': [{'columnName': 'age', 'type': 'real', 'disable': False}]}]}, 'allColumns': [{'columnName': 'age', 'type': 'real', 'disable': False}, {'columnName': 'anaemia', 'type': 'numeric', 'disable': True}, {'columnName': 'creatinine_phosphokinase', 'type': 'numeric', 'disable': True}, {'columnName': 'diabetes', 'type': 'numeric', 'disable': True}, {'columnName': 'ejection_fraction', 'type': 'numeric', 'disable': True}, {'columnName': 'high_blood_pressure', 'type': 'numeric', 'disable': True}, {'columnName': 'platelets', 'type': 'real', 'disable': False}, {'columnName': 'serum_creatinine', 'type': 'real', 'disable': False}, {'columnName': 'serum_sodium', 'type': 'numeric', 'disable': True}, {'columnName': 'sex', 'type': 'numeric', 'disable': True}, {'columnName': 'smoking', 'type': 'numeric', 'disable': True}, {'columnName': 'time', 'type': 'numeric', 'disable': True}, {'columnName': 'DEATH_EVENT', 'type': 'numeric', 'disable': True}], 'url': '/FileStore/platform/testdata/1714042041565_HeartFailureTrain.csv', 'server_url': '/nexusMax/NexusMaxPlatform/uploads/platform/', 'SelectedColumnsData': [{'columnName': 'age', 'type': 'real', 'disable': False}], 'groupOn': ['age']}\")\n",
    "\n",
    "except Exception as ex: \n",
    "\tlogging.error(ex)\n"
   ]
  },
  {
   "cell_type": "markdown",
   "id": "12112a0b",
   "metadata": {},
   "source": [
    "***WRITING DATAFRAME***"
   ]
  },
  {
   "cell_type": "code",
   "execution_count": null,
   "id": "5850c7ab",
   "metadata": {},
   "outputs": [],
   "source": [
    "#%run dpaggregateHooks.ipynb\n",
    "try:\n",
    "\t#sinkPreExecutionHook()\n",
    "\n",
    "\toperatorstestoutput = NumtraConnector.fetch(spark, \"{'samplefile': '/FileStore/platform/sampleData/663b8b9170d70b7c1b1e4b96/part-00000-67d965c5-326a-426c-9841-cc2e987840c0-c000.csv', 'samplecount': 299, 'originalcount': 299, 'orignalKey': '/FileStore/platform/testdata/1714042041565_HeartFailureTrain.csv', 'pathOnly': '/OperatorsTest', 'project_id': '66279e60b6d893f4c9a9ec43', 'parent_id': '66279e60b6d893f4c9a9ec43', 'original_schema': [{'checked': True, 'inherited': True, 'is_categorical': False, 'bad_values': '', 'nullable': 'true', '_id': '6644b3dda53c62d4c028ae9b', 'field': 'age', 'alias': 'age', 'type': 'real', 'position': '0'}, {'checked': True, 'inherited': True, 'is_categorical': False, 'bad_values': '', 'nullable': 'true', '_id': '6644b3dda53c62d4c028ae9c', 'field': 'anaemia', 'alias': 'anaemia', 'type': 'numeric', 'position': '1'}, {'checked': True, 'inherited': True, 'is_categorical': False, 'bad_values': '', 'nullable': 'true', '_id': '6644b3dda53c62d4c028ae9d', 'field': 'creatinine_phosphokinase', 'alias': 'creatinine_phosphokinase', 'type': 'numeric', 'position': '2'}, {'checked': True, 'inherited': True, 'is_categorical': False, 'bad_values': '', 'nullable': 'true', '_id': '6644b3dda53c62d4c028ae9e', 'field': 'diabetes', 'alias': 'diabetes', 'type': 'numeric', 'position': '3'}, {'checked': True, 'inherited': True, 'is_categorical': False, 'bad_values': '', 'nullable': 'true', '_id': '6644b3dda53c62d4c028ae9f', 'field': 'ejection_fraction', 'alias': 'ejection_fraction', 'type': 'numeric', 'position': '4'}, {'checked': True, 'inherited': True, 'is_categorical': False, 'bad_values': '', 'nullable': 'true', '_id': '6644b3dda53c62d4c028aea0', 'field': 'high_blood_pressure', 'alias': 'high_blood_pressure', 'type': 'numeric', 'position': '5'}, {'checked': True, 'inherited': True, 'is_categorical': False, 'bad_values': '', 'nullable': 'true', '_id': '6644b3dda53c62d4c028aea1', 'field': 'platelets', 'alias': 'platelets', 'type': 'real', 'position': '6'}, {'checked': True, 'inherited': True, 'is_categorical': False, 'bad_values': '', 'nullable': 'true', '_id': '6644b3dda53c62d4c028aea2', 'field': 'serum_creatinine', 'alias': 'serum_creatinine', 'type': 'real', 'position': '7'}, {'checked': True, 'inherited': True, 'is_categorical': False, 'bad_values': '', 'nullable': 'true', '_id': '6644b3dda53c62d4c028aea3', 'field': 'serum_sodium', 'alias': 'serum_sodium', 'type': 'numeric', 'position': '8'}, {'checked': True, 'inherited': True, 'is_categorical': False, 'bad_values': '', 'nullable': 'true', '_id': '6644b3dda53c62d4c028aea4', 'field': 'sex', 'alias': 'sex', 'type': 'numeric', 'position': '9'}, {'checked': True, 'inherited': True, 'is_categorical': False, 'bad_values': '', 'nullable': 'true', '_id': '6644b3dda53c62d4c028aea5', 'field': 'smoking', 'alias': 'smoking', 'type': 'numeric', 'position': '10'}, {'checked': True, 'inherited': True, 'is_categorical': False, 'bad_values': '', 'nullable': 'true', '_id': '6644b3dda53c62d4c028aea6', 'field': 'time', 'alias': 'time', 'type': 'numeric', 'position': '11'}, {'checked': True, 'inherited': True, 'is_categorical': False, 'bad_values': '', 'nullable': 'true', '_id': '6644b3dda53c62d4c028aea7', 'field': 'DEATH_EVENT', 'alias': 'DEATH_EVENT', 'type': 'numeric', 'position': '12'}], 'actual_schema': [{'checked': True, 'inherited': True, 'is_categorical': False, 'bad_values': '', 'nullable': 'true', '_id': '6644b3dda53c62d4c028ae8e', 'field': 'age', 'alias': 'age', 'type': 'real', 'position': '0'}, {'checked': True, 'inherited': True, 'is_categorical': False, 'bad_values': '', 'nullable': 'true', '_id': '6644b3dda53c62d4c028ae8f', 'field': 'anaemia', 'alias': 'anaemia', 'type': 'numeric', 'position': '1'}, {'checked': True, 'inherited': True, 'is_categorical': False, 'bad_values': '', 'nullable': 'true', '_id': '6644b3dda53c62d4c028ae90', 'field': 'creatinine_phosphokinase', 'alias': 'creatinine_phosphokinase', 'type': 'numeric', 'position': '2'}, {'checked': True, 'inherited': True, 'is_categorical': False, 'bad_values': '', 'nullable': 'true', '_id': '6644b3dda53c62d4c028ae91', 'field': 'diabetes', 'alias': 'diabetes', 'type': 'numeric', 'position': '3'}, {'checked': True, 'inherited': True, 'is_categorical': False, 'bad_values': '', 'nullable': 'true', '_id': '6644b3dda53c62d4c028ae92', 'field': 'ejection_fraction', 'alias': 'ejection_fraction', 'type': 'numeric', 'position': '4'}, {'checked': True, 'inherited': True, 'is_categorical': False, 'bad_values': '', 'nullable': 'true', '_id': '6644b3dda53c62d4c028ae93', 'field': 'high_blood_pressure', 'alias': 'high_blood_pressure', 'type': 'numeric', 'position': '5'}, {'checked': True, 'inherited': True, 'is_categorical': False, 'bad_values': '', 'nullable': 'true', '_id': '6644b3dda53c62d4c028ae94', 'field': 'platelets', 'alias': 'platelets', 'type': 'real', 'position': '6'}, {'checked': True, 'inherited': True, 'is_categorical': False, 'bad_values': '', 'nullable': 'true', '_id': '6644b3dda53c62d4c028ae95', 'field': 'serum_creatinine', 'alias': 'serum_creatinine', 'type': 'real', 'position': '7'}, {'checked': True, 'inherited': True, 'is_categorical': False, 'bad_values': '', 'nullable': 'true', '_id': '6644b3dda53c62d4c028ae96', 'field': 'serum_sodium', 'alias': 'serum_sodium', 'type': 'numeric', 'position': '8'}, {'checked': True, 'inherited': True, 'is_categorical': False, 'bad_values': '', 'nullable': 'true', '_id': '6644b3dda53c62d4c028ae97', 'field': 'sex', 'alias': 'sex', 'type': 'numeric', 'position': '9'}, {'checked': True, 'inherited': True, 'is_categorical': False, 'bad_values': '', 'nullable': 'true', '_id': '6644b3dda53c62d4c028ae98', 'field': 'smoking', 'alias': 'smoking', 'type': 'numeric', 'position': '10'}, {'checked': True, 'inherited': True, 'is_categorical': False, 'bad_values': '', 'nullable': 'true', '_id': '6644b3dda53c62d4c028ae99', 'field': 'time', 'alias': 'time', 'type': 'numeric', 'position': '11'}, {'checked': True, 'inherited': True, 'is_categorical': False, 'bad_values': '', 'nullable': 'true', '_id': '6644b3dda53c62d4c028ae9a', 'field': 'DEATH_EVENT', 'alias': 'DEATH_EVENT', 'type': 'numeric', 'position': '12'}], 'server': 'https://dnm.bfirst.ai:443', 'server_url': '/nexusMax/NexusMaxPlatform/uploads/platform/', 'delimiter': ',', 'file_type': 'Delimeted', 'filename': 'AggregationTest.csv', 'token': '', 'domain': '', 'is_header': 'Use Header Line', 'url': '/FileStore/platform/uploadedSourceFiles/part-00000-319d3e80-82aa-45a8-8cd2-33ae5083ac22-c000.csv', 'results_url': 'http://dnm.bfirst.ai:44040/api/read/hdfs'}\")\n",
    "\n",
    "except Exception as ex: \n",
    "\tlogging.error(ex)\n"
   ]
  }
 ],
 "metadata": {},
 "nbformat": 4,
 "nbformat_minor": 5
}
